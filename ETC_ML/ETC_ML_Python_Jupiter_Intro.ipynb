{
 "cells": [
  {
   "cell_type": "markdown",
   "id": "5af2b34f",
   "metadata": {},
   "source": [
    "Hier ist ein Mardown, hier kann man schreiben. Es gibt auch Markdown Cheatsheet da kann man sich ansehen wie das functioniert: \n",
    "# Hash macht zB n Heading! \n",
    "#### mit mehreren Hashs wirds dann kleiner\n",
    "\n",
    "- Python ist fantastisch \n",
    "- **fett** mit Stern \n",
    "- _unterstrich_ machts kursiv\n",
    "\n"
   ]
  },
  {
   "cell_type": "code",
   "execution_count": 1,
   "id": "c8509f10",
   "metadata": {},
   "outputs": [
    {
     "data": {
      "text/plain": [
       "'55'"
      ]
     },
     "execution_count": 1,
     "metadata": {},
     "output_type": "execute_result"
    }
   ],
   "source": [
    "import black\n",
    "\"5\" + \"5\""
   ]
  },
  {
   "cell_type": "code",
   "execution_count": 31,
   "id": "59b8eabe",
   "metadata": {},
   "outputs": [
    {
     "data": {
      "text/plain": [
       "32"
      ]
     },
     "execution_count": 31,
     "metadata": {},
     "output_type": "execute_result"
    }
   ],
   "source": [
    "import sys # python runtime\n",
    "import os  #operating system\n",
    "sys.getsizeof(42)"
   ]
  },
  {
   "cell_type": "code",
   "execution_count": 34,
   "id": "e2f289a9",
   "metadata": {},
   "outputs": [
    {
     "data": {
      "text/plain": [
       "420000000000.0"
      ]
     },
     "execution_count": 34,
     "metadata": {},
     "output_type": "execute_result"
    }
   ],
   "source": [
    "42e10"
   ]
  },
  {
   "cell_type": "code",
   "execution_count": 35,
   "id": "e3701e34",
   "metadata": {},
   "outputs": [
    {
     "data": {
      "text/plain": [
       "float"
      ]
     },
     "execution_count": 35,
     "metadata": {},
     "output_type": "execute_result"
    }
   ],
   "source": [
    "type(0.1)"
   ]
  },
  {
   "cell_type": "code",
   "execution_count": 38,
   "id": "e6a9f54e",
   "metadata": {},
   "outputs": [
    {
     "data": {
      "text/plain": [
       "True"
      ]
     },
     "execution_count": 38,
     "metadata": {},
     "output_type": "execute_result"
    }
   ],
   "source": [
    "round(0.1) + round(0.2) == round(0.3) # false weil nachkommastellen (float..)"
   ]
  },
  {
   "cell_type": "code",
   "execution_count": 43,
   "id": "2590b2c1",
   "metadata": {},
   "outputs": [
    {
     "data": {
      "text/plain": [
       "0"
      ]
     },
     "execution_count": 43,
     "metadata": {},
     "output_type": "execute_result"
    }
   ],
   "source": [
    "round(0.4)"
   ]
  },
  {
   "cell_type": "code",
   "execution_count": 45,
   "id": "a4162273",
   "metadata": {},
   "outputs": [
    {
     "data": {
      "text/plain": [
       "True"
      ]
     },
     "execution_count": 45,
     "metadata": {},
     "output_type": "execute_result"
    }
   ],
   "source": [
    "import math\n",
    "math.isclose(0.1 + 0.2, 0.3)"
   ]
  },
  {
   "cell_type": "code",
   "execution_count": 46,
   "id": "81400d1a",
   "metadata": {},
   "outputs": [],
   "source": [
    "math.isclose?"
   ]
  },
  {
   "cell_type": "code",
   "execution_count": 47,
   "id": "0559ad6f",
   "metadata": {},
   "outputs": [
    {
     "data": {
      "text/plain": [
       "-0.08333333333333333"
      ]
     },
     "execution_count": 47,
     "metadata": {},
     "output_type": "execute_result"
    }
   ],
   "source": [
    "-1/12"
   ]
  },
  {
   "cell_type": "code",
   "execution_count": 49,
   "id": "e7d42f50",
   "metadata": {},
   "outputs": [],
   "source": [
    "product = \"python\"\n",
    "attribute = \"cool\"\n",
    "value = 42"
   ]
  },
  {
   "cell_type": "markdown",
   "id": "005919a9",
   "metadata": {},
   "source": [
    "## Formatted string python 2"
   ]
  },
  {
   "cell_type": "code",
   "execution_count": 50,
   "id": "0ee2a4fc",
   "metadata": {},
   "outputs": [
    {
     "name": "stdout",
     "output_type": "stream",
     "text": [
      "python is best described as cool and has a value of 42\n"
     ]
    }
   ],
   "source": [
    "msg = \"%s is best described as %s and has a value of %d\" % (product, attribute, value)\n",
    "print(msg)"
   ]
  },
  {
   "cell_type": "markdown",
   "id": "b3cc3310",
   "metadata": {},
   "source": [
    "## formatted string python 3 "
   ]
  },
  {
   "cell_type": "code",
   "execution_count": 56,
   "id": "8d8e2d92",
   "metadata": {},
   "outputs": [
    {
     "name": "stdout",
     "output_type": "stream",
     "text": [
      "python is best described as cool and has a value of 42\n"
     ]
    }
   ],
   "source": [
    "msg = f\"{product} is best described as {attribute} and has a value of {value}\" # the thing!\n",
    "print(msg)"
   ]
  },
  {
   "cell_type": "code",
   "execution_count": 53,
   "id": "598dfd67",
   "metadata": {},
   "outputs": [
    {
     "name": "stdout",
     "output_type": "stream",
     "text": [
      "python is best described as cool and has a value of 42\n"
     ]
    }
   ],
   "source": [
    "msg = \"{} is best described as {} and has a value of {}\".format(product, attribute, value) #python 3.2\n",
    "print(msg)"
   ]
  },
  {
   "cell_type": "markdown",
   "id": "3b8fa234",
   "metadata": {},
   "source": [
    "## DOC strings"
   ]
  },
  {
   "cell_type": "code",
   "execution_count": 58,
   "id": "5c1071e3",
   "metadata": {},
   "outputs": [
    {
     "name": "stdout",
     "output_type": "stream",
     "text": [
      "Pythin\n",
      "is very\n",
      "cool\n"
     ]
    }
   ],
   "source": [
    "msg = \"Pythin\\nis very\\ncool\"\n",
    "print(msg)"
   ]
  },
  {
   "cell_type": "code",
   "execution_count": 59,
   "id": "89a87a60",
   "metadata": {},
   "outputs": [
    {
     "name": "stdout",
     "output_type": "stream",
     "text": [
      " Python\n",
      "is\n",
      "very cool\n"
     ]
    }
   ],
   "source": [
    "msg = \"\"\" Python\n",
    "is\n",
    "very cool\"\"\"\n",
    "print(msg)"
   ]
  },
  {
   "cell_type": "code",
   "execution_count": 61,
   "id": "2678953d",
   "metadata": {},
   "outputs": [
    {
     "data": {
      "text/plain": [
       "'olleh'"
      ]
     },
     "execution_count": 61,
     "metadata": {},
     "output_type": "execute_result"
    }
   ],
   "source": [
    "\"hello\"[::-1]"
   ]
  },
  {
   "cell_type": "code",
   "execution_count": 63,
   "id": "3cb66fd5",
   "metadata": {},
   "outputs": [],
   "source": [
    "sorted?"
   ]
  },
  {
   "cell_type": "markdown",
   "id": "bf978226",
   "metadata": {},
   "source": [
    "#### Pause bis halb 2"
   ]
  },
  {
   "cell_type": "code",
   "execution_count": 64,
   "id": "de76b912",
   "metadata": {},
   "outputs": [],
   "source": [
    "my_new_list = list(\"hello\")"
   ]
  },
  {
   "cell_type": "markdown",
   "id": "72c75177",
   "metadata": {},
   "source": [
    "## for loop"
   ]
  },
  {
   "cell_type": "code",
   "execution_count": 66,
   "id": "9766cae5",
   "metadata": {},
   "outputs": [
    {
     "name": "stdout",
     "output_type": "stream",
     "text": [
      "h\n",
      "e\n",
      "l\n",
      "l\n",
      "o\n"
     ]
    }
   ],
   "source": [
    "for idx in range(len(my_new_list)):\n",
    "    print(my_new_list[idx])"
   ]
  },
  {
   "cell_type": "code",
   "execution_count": 67,
   "id": "6c8319e2",
   "metadata": {},
   "outputs": [
    {
     "name": "stdout",
     "output_type": "stream",
     "text": [
      "h\n",
      "e\n",
      "l\n",
      "l\n",
      "o\n"
     ]
    }
   ],
   "source": [
    "for el in my_new_list:\n",
    "    print(el)"
   ]
  },
  {
   "cell_type": "markdown",
   "id": "b0690b2a",
   "metadata": {},
   "source": [
    "## list comprehension"
   ]
  },
  {
   "cell_type": "code",
   "execution_count": 68,
   "id": "be6864ed",
   "metadata": {},
   "outputs": [
    {
     "data": {
      "text/plain": [
       "['h', 'e', 'l', 'l', 'o']"
      ]
     },
     "execution_count": 68,
     "metadata": {},
     "output_type": "execute_result"
    }
   ],
   "source": [
    "my_new_list"
   ]
  },
  {
   "cell_type": "markdown",
   "id": "57c145fe",
   "metadata": {},
   "source": [
    "### Transformation"
   ]
  },
  {
   "cell_type": "markdown",
   "id": "8dc2b056",
   "metadata": {},
   "source": [
    "##### standard for loop"
   ]
  },
  {
   "cell_type": "code",
   "execution_count": 70,
   "id": "fb45c9b1",
   "metadata": {},
   "outputs": [
    {
     "name": "stdout",
     "output_type": "stream",
     "text": [
      "['H', 'E', 'L', 'L', 'O']\n"
     ]
    }
   ],
   "source": [
    "result = []\n",
    "for el in my_new_list:\n",
    "    result.append(el.upper())\n",
    "print(result)"
   ]
  },
  {
   "cell_type": "code",
   "execution_count": 71,
   "id": "4a7cf408",
   "metadata": {},
   "outputs": [
    {
     "name": "stdout",
     "output_type": "stream",
     "text": [
      "['H', 'E', 'L', 'L', 'O']\n"
     ]
    }
   ],
   "source": [
    "result = [el.upper() for el in my_new_list]\n",
    "print(result)"
   ]
  },
  {
   "cell_type": "markdown",
   "id": "78f0c204",
   "metadata": {},
   "source": [
    "## filter"
   ]
  },
  {
   "cell_type": "code",
   "execution_count": 73,
   "id": "1cd6e306",
   "metadata": {},
   "outputs": [
    {
     "data": {
      "text/plain": [
       "True"
      ]
     },
     "execution_count": 73,
     "metadata": {},
     "output_type": "execute_result"
    }
   ],
   "source": [
    "'a' in ['a', 'b', 'c']"
   ]
  },
  {
   "cell_type": "code",
   "execution_count": 75,
   "id": "de156e58",
   "metadata": {},
   "outputs": [
    {
     "data": {
      "text/plain": [
       "['l', 'l', 'o']"
      ]
     },
     "execution_count": 75,
     "metadata": {},
     "output_type": "execute_result"
    }
   ],
   "source": [
    "[el for el in my_new_list if el in ['l', 'o']]"
   ]
  },
  {
   "cell_type": "markdown",
   "id": "f71dab56",
   "metadata": {},
   "source": [
    "## Trafo + FIlter"
   ]
  },
  {
   "cell_type": "code",
   "execution_count": 76,
   "id": "31bc8c0e",
   "metadata": {},
   "outputs": [
    {
     "data": {
      "text/plain": [
       "['L', 'L', 'O']"
      ]
     },
     "execution_count": 76,
     "metadata": {},
     "output_type": "execute_result"
    }
   ],
   "source": [
    "[el.upper() for el in my_new_list if el in ['l', 'o']]"
   ]
  },
  {
   "cell_type": "code",
   "execution_count": 77,
   "id": "7cf76ade",
   "metadata": {},
   "outputs": [],
   "source": [
    "# excercise:"
   ]
  },
  {
   "cell_type": "code",
   "execution_count": 101,
   "id": "91686a3e",
   "metadata": {},
   "outputs": [],
   "source": [
    "a = \"we are beautiful people doing data science\".split()"
   ]
  },
  {
   "cell_type": "code",
   "execution_count": 79,
   "id": "ac3b8769",
   "metadata": {},
   "outputs": [],
   "source": [
    "# 1. Gebe alle Woerter aus, die aus 4 oder mehr Buchstaben bestehen. Zeige diese in Grossbuchstaben an.\n",
    "  2. Gib alle Woerter aus wenn diese au"
   ]
  },
  {
   "cell_type": "code",
   "execution_count": 91,
   "id": "571cd9c2",
   "metadata": {},
   "outputs": [
    {
     "name": "stdout",
     "output_type": "stream",
     "text": [
      "['WE', 'ARE', 'BEAUTIFUL', 'PEOPLE', 'DOING', 'DATA', 'SCIENCE']\n"
     ]
    }
   ],
   "source": [
    "print([el.upper() for el in a if len(a)>3])"
   ]
  },
  {
   "cell_type": "code",
   "execution_count": 110,
   "id": "73fedba1",
   "metadata": {},
   "outputs": [
    {
     "data": {
      "text/plain": [
       "['WE', 'ARE', 'BEAUTIFUL', 'PEOPLE', 'DOING', 'DATA', 'SCIENCE']"
      ]
     },
     "execution_count": 110,
     "metadata": {},
     "output_type": "execute_result"
    }
   ],
   "source": [
    "[ele.upper() if len(a)>=4 else ele for ele in a]"
   ]
  },
  {
   "cell_type": "code",
   "execution_count": 104,
   "id": "097e6c14",
   "metadata": {},
   "outputs": [
    {
     "name": "stdout",
     "output_type": "stream",
     "text": [
      "['we', 'are', 'beautiful', 'people', 'doing', 'data', 'science']\n"
     ]
    }
   ],
   "source": [
    "print(a)"
   ]
  },
  {
   "cell_type": "code",
   "execution_count": 107,
   "id": "dca547eb",
   "metadata": {},
   "outputs": [
    {
     "data": {
      "text/plain": [
       "['we', 'are', 'BEAUTIFUL', 'PEOPLE', 'DOING', 'DATA', 'SCIENCE']"
      ]
     },
     "execution_count": 107,
     "metadata": {},
     "output_type": "execute_result"
    }
   ],
   "source": [
    "[ele.upper() if len(ele)>=4 else ele for ele in a]"
   ]
  },
  {
   "cell_type": "code",
   "execution_count": 3,
   "id": "5ad3c586",
   "metadata": {},
   "outputs": [],
   "source": [
    "# Exercise: "
   ]
  },
  {
   "cell_type": "code",
   "execution_count": 4,
   "id": "a88b6f2b",
   "metadata": {},
   "outputs": [],
   "source": [
    "a = 42\n",
    "b = 100\n",
    "\n",
    "a, b = b, a"
   ]
  },
  {
   "cell_type": "code",
   "execution_count": 17,
   "id": "9e537aa6",
   "metadata": {},
   "outputs": [],
   "source": [
    "# Beispiele Tuple:\n",
    "# A. Function Return Values"
   ]
  },
  {
   "cell_type": "code",
   "execution_count": 13,
   "id": "a208b595",
   "metadata": {},
   "outputs": [],
   "source": [
    "def hard_calculation(a_value):\n",
    "    result = 42\n",
    "    state = True\n",
    "    return result, state  # da kommt ein tuple retour"
   ]
  },
  {
   "cell_type": "code",
   "execution_count": 14,
   "id": "2ae8f0c3",
   "metadata": {},
   "outputs": [
    {
     "data": {
      "text/plain": [
       "(42, True)"
      ]
     },
     "execution_count": 14,
     "metadata": {},
     "output_type": "execute_result"
    }
   ],
   "source": [
    "hard_calculation(4)"
   ]
  },
  {
   "cell_type": "code",
   "execution_count": 15,
   "id": "afdbfa06",
   "metadata": {},
   "outputs": [
    {
     "name": "stdout",
     "output_type": "stream",
     "text": [
      "42 True\n"
     ]
    }
   ],
   "source": [
    "res, _ = hard_calculation(4)\n",
    "print(res, _)"
   ]
  },
  {
   "cell_type": "code",
   "execution_count": 16,
   "id": "6922de88",
   "metadata": {},
   "outputs": [
    {
     "name": "stdout",
     "output_type": "stream",
     "text": [
      "hallo hallo hallo hallo hallo hallo hallo hallo hallo hallo \n"
     ]
    }
   ],
   "source": [
    "print(\"hallo \"*10)"
   ]
  },
  {
   "cell_type": "code",
   "execution_count": 18,
   "id": "8e0b88cb",
   "metadata": {},
   "outputs": [],
   "source": [
    "# B. Some useful functions"
   ]
  },
  {
   "cell_type": "code",
   "execution_count": 48,
   "id": "088e8088",
   "metadata": {},
   "outputs": [],
   "source": [
    "articles = ['handy_a',\"handy_b\", \"smartwatch_a\" ]\n",
    "prices = [800, 400, 259]\n",
    "weights = [100, 122, 55]\n",
    "    "
   ]
  },
  {
   "cell_type": "code",
   "execution_count": null,
   "id": "141f4efa",
   "metadata": {},
   "outputs": [],
   "source": [
    "\n",
    "list(enumerate(articles))\n",
    "for idx, article in enumerate(articles):\n",
    "    price = prices[idx]\n",
    "    print(article, price)\n"
   ]
  },
  {
   "cell_type": "code",
   "execution_count": 27,
   "id": "0a49c2ec",
   "metadata": {},
   "outputs": [],
   "source": [
    "# best"
   ]
  },
  {
   "cell_type": "code",
   "execution_count": 50,
   "id": "3730f19c",
   "metadata": {},
   "outputs": [],
   "source": [
    "dicti = list(zip(articles, prices, weights))"
   ]
  },
  {
   "cell_type": "code",
   "execution_count": 32,
   "id": "a84e21a1",
   "metadata": {},
   "outputs": [
    {
     "name": "stdout",
     "output_type": "stream",
     "text": [
      "{'handy_a': 800, 'handy_b': 400, 'smartwatch_a': 259}\n"
     ]
    }
   ],
   "source": [
    "print(dicti)"
   ]
  },
  {
   "cell_type": "code",
   "execution_count": 41,
   "id": "cbd7bd91",
   "metadata": {},
   "outputs": [
    {
     "name": "stdout",
     "output_type": "stream",
     "text": [
      "800\n",
      "400\n",
      "259\n"
     ]
    }
   ],
   "source": [
    "for item in dicti:\n",
    "    print(dicti[item])"
   ]
  },
  {
   "cell_type": "code",
   "execution_count": 53,
   "id": "6a43a689",
   "metadata": {},
   "outputs": [],
   "source": [
    "my_dict = {}"
   ]
  },
  {
   "cell_type": "code",
   "execution_count": 54,
   "id": "5c371d41",
   "metadata": {},
   "outputs": [],
   "source": [
    "my_dict['Gunnar'] = 193\n",
    "my_dict['John'] = 180\n",
    "my_dict['Bob'] = 190\n"
   ]
  },
  {
   "cell_type": "code",
   "execution_count": 55,
   "id": "4f761646",
   "metadata": {},
   "outputs": [
    {
     "data": {
      "text/plain": [
       "{'Gunnar': 193, 'John': 180, 'Bob': 190}"
      ]
     },
     "execution_count": 55,
     "metadata": {},
     "output_type": "execute_result"
    }
   ],
   "source": [
    "my_dict"
   ]
  },
  {
   "cell_type": "markdown",
   "id": "7c328715",
   "metadata": {},
   "source": [
    "## Iteration"
   ]
  },
  {
   "cell_type": "code",
   "execution_count": 56,
   "id": "6523358e",
   "metadata": {},
   "outputs": [
    {
     "data": {
      "text/plain": [
       "dict_keys(['Gunnar', 'John', 'Bob'])"
      ]
     },
     "execution_count": 56,
     "metadata": {},
     "output_type": "execute_result"
    }
   ],
   "source": [
    "my_dict.keys()"
   ]
  },
  {
   "cell_type": "code",
   "execution_count": 58,
   "id": "89503f81",
   "metadata": {},
   "outputs": [
    {
     "data": {
      "text/plain": [
       "dict_values([193, 180, 190])"
      ]
     },
     "execution_count": 58,
     "metadata": {},
     "output_type": "execute_result"
    }
   ],
   "source": [
    "my_dict.values()"
   ]
  },
  {
   "cell_type": "code",
   "execution_count": 59,
   "id": "44ee2a84",
   "metadata": {},
   "outputs": [
    {
     "data": {
      "text/plain": [
       "187.67"
      ]
     },
     "execution_count": 59,
     "metadata": {},
     "output_type": "execute_result"
    }
   ],
   "source": [
    "total = 0 \n",
    "for height in my_dict.values():\n",
    "    total += height\n",
    "round(total/len(my_dict),2)"
   ]
  },
  {
   "cell_type": "code",
   "execution_count": 60,
   "id": "dab704a2",
   "metadata": {},
   "outputs": [
    {
     "data": {
      "text/plain": [
       "dict_items([('Gunnar', 193), ('John', 180), ('Bob', 190)])"
      ]
     },
     "execution_count": 60,
     "metadata": {},
     "output_type": "execute_result"
    }
   ],
   "source": [
    "my_dict.items()"
   ]
  },
  {
   "cell_type": "code",
   "execution_count": 61,
   "id": "028813a0",
   "metadata": {},
   "outputs": [
    {
     "name": "stdout",
     "output_type": "stream",
     "text": [
      "Gunnar 193\n",
      "John 180\n",
      "Bob 190\n"
     ]
    }
   ],
   "source": [
    "for k, v in my_dict.items():\n",
    "    print(k,v)"
   ]
  },
  {
   "cell_type": "markdown",
   "id": "90aeded8",
   "metadata": {},
   "source": [
    "## DICT comprehension"
   ]
  },
  {
   "cell_type": "code",
   "execution_count": 63,
   "id": "eac881c3",
   "metadata": {},
   "outputs": [
    {
     "data": {
      "text/plain": [
       "{'handy_a': 800, 'handy_b': 400, 'smartwatch_a': 259}"
      ]
     },
     "execution_count": 63,
     "metadata": {},
     "output_type": "execute_result"
    }
   ],
   "source": [
    "articles = ['handy_a', 'handy_b', 'smartwatch_a']\n",
    "prices = [800,400,259]\n",
    "\n",
    "{article:price for article, price in zip(articles, prices)}"
   ]
  },
  {
   "cell_type": "code",
   "execution_count": 71,
   "id": "b12c0410",
   "metadata": {},
   "outputs": [],
   "source": [
    "import string\n",
    "b = dict(enumerate(string.ascii_lowercase, start = 1))"
   ]
  },
  {
   "cell_type": "code",
   "execution_count": 72,
   "id": "440c2604",
   "metadata": {},
   "outputs": [
    {
     "data": {
      "text/plain": [
       "'s'"
      ]
     },
     "execution_count": 72,
     "metadata": {},
     "output_type": "execute_result"
    }
   ],
   "source": [
    "b[19]"
   ]
  },
  {
   "cell_type": "code",
   "execution_count": 77,
   "id": "8c6afdb1",
   "metadata": {},
   "outputs": [],
   "source": [
    "d_2 = {char:pos for pos, char in b.items()}\n",
    "d_2;"
   ]
  },
  {
   "cell_type": "code",
   "execution_count": 105,
   "id": "21c4d7d4",
   "metadata": {},
   "outputs": [
    {
     "name": "stdout",
     "output_type": "stream",
     "text": [
      "{'How': 1, 'much': 1, 'wood': 2, 'could': 2, 'a': 2, 'woodchuck': 2, 'chuck': 2, 'if': 1}\n"
     ]
    }
   ],
   "source": [
    "# dict exercise: \n",
    "#\n",
    "sentence = \"How much wood could a woodchuck chuck if a woodchuck could chuck wood\".split()\n",
    "#print(sentence)\n",
    "# 1. Wie oft taucht ein jedes Wort in sentence auf? \n",
    "# 2. Gib das Ergebnis in absteigend sortierter Reihenfolge auf dem Bildschirm aus\n",
    "\n",
    "di = {}\n",
    "counter = 0\n",
    "for word in sentence:\n",
    "    if word in di: \n",
    "        di[word] +=1\n",
    "    else: \n",
    "        di[word] = 1\n",
    "\n",
    "print(di)    \n",
    "\n",
    "\n",
    "\n"
   ]
  },
  {
   "cell_type": "code",
   "execution_count": 112,
   "id": "26343f5a",
   "metadata": {},
   "outputs": [
    {
     "data": {
      "text/plain": [
       "{1: 'if', 2: 'chuck'}"
      ]
     },
     "execution_count": 112,
     "metadata": {},
     "output_type": "execute_result"
    }
   ],
   "source": [
    "di_2 = {key: value for value,key in di.items()} # geht ned, da verliert man natürlich alles in der selben neuen klasse (1 und 2)\n",
    "\n",
    "di_2\n",
    "#sorted(di_2.items())"
   ]
  },
  {
   "cell_type": "code",
   "execution_count": 111,
   "id": "2fca3c86",
   "metadata": {},
   "outputs": [
    {
     "name": "stdout",
     "output_type": "stream",
     "text": [
      "woodchuck tauch 2-mal auf\n",
      "wood tauch 2-mal auf\n",
      "could tauch 2-mal auf\n",
      "chuck tauch 2-mal auf\n",
      "a tauch 2-mal auf\n",
      "much tauch 1-mal auf\n",
      "if tauch 1-mal auf\n",
      "How tauch 1-mal auf\n"
     ]
    }
   ],
   "source": [
    "for count, word in sorted([(count, word) for word, count in di.items()], reverse=True):\n",
    "        print(f\"{word} tauch {count}-mal auf\")"
   ]
  },
  {
   "cell_type": "code",
   "execution_count": 115,
   "id": "a72d08dd",
   "metadata": {},
   "outputs": [
    {
     "data": {
      "text/plain": [
       "[('wood', 2),\n",
       " ('could', 2),\n",
       " ('a', 2),\n",
       " ('woodchuck', 2),\n",
       " ('chuck', 2),\n",
       " ('How', 1),\n",
       " ('much', 1),\n",
       " ('if', 1)]"
      ]
     },
     "execution_count": 115,
     "metadata": {},
     "output_type": "execute_result"
    }
   ],
   "source": [
    "sentence = \"How much wood could a woodchuck chuck if a woodchuck could chuck wood\".split()\n",
    "from collections import Counter\n",
    "\n",
    "Counter(sentence).most_common()"
   ]
  },
  {
   "cell_type": "code",
   "execution_count": 2,
   "id": "1fbbcf6a",
   "metadata": {},
   "outputs": [],
   "source": [
    "def my_add(a,b,*args):\n",
    "    res = a+b\n",
    "    for arg in args: \n",
    "        res+= arg\n",
    "    return res"
   ]
  },
  {
   "cell_type": "code",
   "execution_count": 3,
   "id": "e4f03a12",
   "metadata": {},
   "outputs": [
    {
     "name": "stdout",
     "output_type": "stream",
     "text": [
      "30\n"
     ]
    }
   ],
   "source": [
    "print(my_add(3,5,6,7,9))"
   ]
  },
  {
   "cell_type": "code",
   "execution_count": 6,
   "id": "e0bd60f3",
   "metadata": {},
   "outputs": [],
   "source": [
    "my_list = [(\"anna\", 35), (\"Armin\", 40), (\"bob\", 19)]"
   ]
  },
  {
   "cell_type": "code",
   "execution_count": 9,
   "id": "5a72cce8",
   "metadata": {},
   "outputs": [
    {
     "name": "stdout",
     "output_type": "stream",
     "text": [
      "('anna', 35)\n",
      "('Armin', 40)\n",
      "('bob', 19)\n"
     ]
    }
   ],
   "source": [
    "#Iterable\n",
    "\n",
    "#for el in my_list:      # standard\n",
    "#    print(el)\n",
    "\n",
    "list_iter = iter(my_list) # iteration\n",
    "print(next(list_iter))\n",
    "print(next(list_iter))\n",
    "print(next(list_iter))"
   ]
  },
  {
   "cell_type": "code",
   "execution_count": 10,
   "id": "39644d01",
   "metadata": {},
   "outputs": [
    {
     "data": {
      "text/plain": [
       "[('Armin', 40), ('anna', 35), ('bob', 19)]"
      ]
     },
     "execution_count": 10,
     "metadata": {},
     "output_type": "execute_result"
    }
   ],
   "source": [
    "sorted(my_list)"
   ]
  },
  {
   "cell_type": "code",
   "execution_count": 14,
   "id": "0ad38bf4",
   "metadata": {},
   "outputs": [],
   "source": [
    "def sort_tuple_el_by_2nd_el(a_tuple):\n",
    "    return a_tuple[1]"
   ]
  },
  {
   "cell_type": "code",
   "execution_count": 18,
   "id": "ddcb9892",
   "metadata": {},
   "outputs": [
    {
     "data": {
      "text/plain": [
       "[('bob', 19), ('anna', 35), ('Armin', 40)]"
      ]
     },
     "execution_count": 18,
     "metadata": {},
     "output_type": "execute_result"
    }
   ],
   "source": [
    "sorted(my_list, key=sort_tuple_el_by_2nd_el) # funktion wird als parameter übergeben und die runden Klammern () werden nicht verwendet"
   ]
  },
  {
   "cell_type": "code",
   "execution_count": 19,
   "id": "6f141255",
   "metadata": {},
   "outputs": [],
   "source": [
    "def apply_a_func_to_a_collection(a_collection, a_func):\n",
    "    result = []\n",
    "    for el in a_collection:\n",
    "        result.append(a_func(el))\n",
    "    return result\n",
    "    "
   ]
  },
  {
   "cell_type": "code",
   "execution_count": 20,
   "id": "f50a2978",
   "metadata": {},
   "outputs": [],
   "source": [
    "def times_two(a_value):\n",
    "    return a_value * 2"
   ]
  },
  {
   "cell_type": "code",
   "execution_count": 22,
   "id": "43b46053",
   "metadata": {},
   "outputs": [
    {
     "data": {
      "text/plain": [
       "[2, 20, 200]"
      ]
     },
     "execution_count": 22,
     "metadata": {},
     "output_type": "execute_result"
    }
   ],
   "source": [
    "my_collection = [1, 10, 100]\n",
    "apply_a_func_to_a_collection(my_collection, times_two)"
   ]
  },
  {
   "cell_type": "code",
   "execution_count": 25,
   "id": "a6e4a181",
   "metadata": {},
   "outputs": [],
   "source": [
    "def cleanup(a_collection):\n",
    "    return a_collection.strip()"
   ]
  },
  {
   "cell_type": "code",
   "execution_count": 27,
   "id": "ac62b5be",
   "metadata": {},
   "outputs": [
    {
     "data": {
      "text/plain": [
       "\"['Wien     ', 'Inssb ruck', '         mai m     ']\""
      ]
     },
     "execution_count": 27,
     "metadata": {},
     "output_type": "execute_result"
    }
   ],
   "source": [
    "my_coll = str([\"Wien     \", \"Inssb ruck\", \"         mai m     \"])\n",
    "cleanup(my_coll)"
   ]
  },
  {
   "cell_type": "markdown",
   "id": "2bebb8c8",
   "metadata": {},
   "source": [
    "## Lambda functions"
   ]
  },
  {
   "cell_type": "code",
   "execution_count": 29,
   "id": "9f2824ea",
   "metadata": {},
   "outputs": [],
   "source": [
    "def foo_0():\n",
    "    return 42\n",
    "\n",
    "def foo_1(a):\n",
    "    return 2* a\n",
    "\n",
    "def foo_2(a,b):\n",
    "    return a + b"
   ]
  },
  {
   "cell_type": "code",
   "execution_count": 39,
   "id": "27cae267",
   "metadata": {},
   "outputs": [],
   "source": [
    "#foo_0 als lambda:\n",
    "l_0 = lambda : 42\n",
    "\n",
    "# foo_1 als lambda:\n",
    "l_1 = lambda a: 2 * a\n",
    "\n",
    "#foo_2 als lambda: \n",
    "\n",
    "l_2 = lambda a, b: a+b"
   ]
  },
  {
   "cell_type": "code",
   "execution_count": 40,
   "id": "18ee4153",
   "metadata": {},
   "outputs": [
    {
     "data": {
      "text/plain": [
       "42"
      ]
     },
     "execution_count": 40,
     "metadata": {},
     "output_type": "execute_result"
    }
   ],
   "source": [
    "l_0()"
   ]
  },
  {
   "cell_type": "code",
   "execution_count": 41,
   "id": "0ae8f684",
   "metadata": {},
   "outputs": [
    {
     "data": {
      "text/plain": [
       "42"
      ]
     },
     "execution_count": 41,
     "metadata": {},
     "output_type": "execute_result"
    }
   ],
   "source": [
    "l_1(21)\n"
   ]
  },
  {
   "cell_type": "code",
   "execution_count": 42,
   "id": "99759fb0",
   "metadata": {},
   "outputs": [
    {
     "data": {
      "text/plain": [
       "42"
      ]
     },
     "execution_count": 42,
     "metadata": {},
     "output_type": "execute_result"
    }
   ],
   "source": [
    "l_2(40,2)"
   ]
  },
  {
   "cell_type": "code",
   "execution_count": 45,
   "id": "2bd9c303",
   "metadata": {},
   "outputs": [
    {
     "data": {
      "text/plain": [
       "[('bob', 19), ('anna', 35), ('Armin', 40)]"
      ]
     },
     "execution_count": 45,
     "metadata": {},
     "output_type": "execute_result"
    }
   ],
   "source": [
    "sorted(my_list, key=lambda a_tuple: a_tuple[1])"
   ]
  },
  {
   "cell_type": "code",
   "execution_count": 48,
   "id": "4ff940c2",
   "metadata": {},
   "outputs": [
    {
     "data": {
      "text/plain": [
       "['Wien', 'Inssb ruck', 'mai m']"
      ]
     },
     "execution_count": 48,
     "metadata": {},
     "output_type": "execute_result"
    }
   ],
   "source": [
    "my_coll =([\"Wien     \", \"Inssb ruck\", \"         mai m     \"])\n",
    "list(map(lambda el: el.strip(), my_coll))"
   ]
  },
  {
   "cell_type": "code",
   "execution_count": 49,
   "id": "a19f1598",
   "metadata": {},
   "outputs": [],
   "source": [
    "from functools import reduce"
   ]
  },
  {
   "cell_type": "code",
   "execution_count": 50,
   "id": "cb9e0fa3",
   "metadata": {},
   "outputs": [],
   "source": [
    "my_list = [1,2,3,4,5]\n",
    "reduce?"
   ]
  },
  {
   "cell_type": "code",
   "execution_count": 52,
   "id": "cb964ed7",
   "metadata": {},
   "outputs": [
    {
     "data": {
      "text/plain": [
       "15"
      ]
     },
     "execution_count": 52,
     "metadata": {},
     "output_type": "execute_result"
    }
   ],
   "source": [
    "reduce(lambda a,b: a+b , my_list) # summe über alle Zahlen"
   ]
  },
  {
   "cell_type": "markdown",
   "id": "3c1c253d",
   "metadata": {},
   "source": [
    "## Generators"
   ]
  },
  {
   "cell_type": "code",
   "execution_count": 53,
   "id": "5a78345f",
   "metadata": {},
   "outputs": [
    {
     "data": {
      "text/plain": [
       "range(0, 10)"
      ]
     },
     "execution_count": 53,
     "metadata": {},
     "output_type": "execute_result"
    }
   ],
   "source": [
    "range(10)"
   ]
  },
  {
   "cell_type": "code",
   "execution_count": 58,
   "id": "def5bf0a",
   "metadata": {},
   "outputs": [],
   "source": [
    "def countdown(start=100, down = 0, step=1):\n",
    "    current = start\n",
    "    while current >= down:\n",
    "        yield current\n",
    "        current -=step"
   ]
  },
  {
   "cell_type": "code",
   "execution_count": 59,
   "id": "24af5ee1",
   "metadata": {},
   "outputs": [
    {
     "name": "stdout",
     "output_type": "stream",
     "text": [
      "5\n",
      "4\n",
      "3\n",
      "2\n",
      "1\n",
      "0\n"
     ]
    }
   ],
   "source": [
    "for el in countdown(5):\n",
    "    print(el)"
   ]
  },
  {
   "cell_type": "markdown",
   "id": "29978d16",
   "metadata": {},
   "source": [
    "## Generator-Expressions"
   ]
  },
  {
   "cell_type": "code",
   "execution_count": 61,
   "id": "0d49b060",
   "metadata": {},
   "outputs": [
    {
     "data": {
      "text/plain": [
       "[0, 1, 4, 9, 16, 25, 36, 49, 64, 81]"
      ]
     },
     "execution_count": 61,
     "metadata": {},
     "output_type": "execute_result"
    }
   ],
   "source": [
    "[el**2 for el in range(10)] # list comprehension"
   ]
  },
  {
   "cell_type": "code",
   "execution_count": 64,
   "id": "4ead8ab6",
   "metadata": {},
   "outputs": [
    {
     "name": "stdout",
     "output_type": "stream",
     "text": [
      "0\n",
      "1\n",
      "4\n",
      "9\n",
      "16\n",
      "25\n",
      "36\n",
      "49\n",
      "64\n",
      "81\n"
     ]
    }
   ],
   "source": [
    "my_gen = (el**2 for el in range(10)) # mit runden klammern wirds eine generator expression\n",
    "for el in my_gen:\n",
    "    print(el)"
   ]
  },
  {
   "cell_type": "markdown",
   "id": "65bb0c6d",
   "metadata": {},
   "source": [
    "### Files"
   ]
  },
  {
   "cell_type": "code",
   "execution_count": 66,
   "id": "45823ff7",
   "metadata": {},
   "outputs": [],
   "source": [
    "open?"
   ]
  },
  {
   "cell_type": "code",
   "execution_count": 68,
   "id": "ee71eee8",
   "metadata": {},
   "outputs": [],
   "source": [
    "fobj = open(\"test.txt\", \"w\")\n",
    "fobj.write(\"Hello \\nlovely \\nPython!\")\n",
    "fobj.close()"
   ]
  },
  {
   "cell_type": "code",
   "execution_count": null,
   "id": "862ba9ba",
   "metadata": {},
   "outputs": [],
   "source": [
    "# %load test.txt\n",
    "Hello \n",
    "lovely \n",
    "Python!"
   ]
  },
  {
   "cell_type": "code",
   "execution_count": 73,
   "id": "eedd7043",
   "metadata": {},
   "outputs": [
    {
     "name": "stdout",
     "output_type": "stream",
     "text": [
      "Hello \n",
      "\n",
      "lovely \n",
      "\n",
      "Python!\n"
     ]
    }
   ],
   "source": [
    "fobj = open(\"test.txt\", \"r\")\n",
    "for line in fobj:  # wenn ich 2 mal lesen will muss ich es nochmal aufmachen! (open!!)\n",
    "    print(line)\n",
    "fobj.close()"
   ]
  },
  {
   "cell_type": "code",
   "execution_count": 75,
   "id": "695d13b6",
   "metadata": {},
   "outputs": [
    {
     "data": {
      "text/plain": [
       "['Hello \\n', 'Python!', 'lovely \\n']"
      ]
     },
     "execution_count": 75,
     "metadata": {},
     "output_type": "execute_result"
    }
   ],
   "source": [
    "fobj = open(\"test.txt\", \"r\")\n",
    "sorted(fobj)"
   ]
  },
  {
   "cell_type": "code",
   "execution_count": 76,
   "id": "e6d544d0",
   "metadata": {},
   "outputs": [],
   "source": [
    "fobj.close()"
   ]
  },
  {
   "cell_type": "code",
   "execution_count": 77,
   "id": "4971e0ba",
   "metadata": {},
   "outputs": [
    {
     "data": {
      "text/plain": [
       "['HELLO', 'LOVELY', 'PYTHON!']"
      ]
     },
     "execution_count": 77,
     "metadata": {},
     "output_type": "execute_result"
    }
   ],
   "source": [
    "fobj = open(\"test.txt\", \"r\")\n",
    "[line.strip().upper() for line in fobj]"
   ]
  },
  {
   "cell_type": "code",
   "execution_count": 78,
   "id": "f0cdb26d",
   "metadata": {},
   "outputs": [],
   "source": [
    "fobj.close()"
   ]
  },
  {
   "cell_type": "markdown",
   "id": "be684eba",
   "metadata": {},
   "source": [
    "### context manager"
   ]
  },
  {
   "cell_type": "code",
   "execution_count": 80,
   "id": "1ee79ba0",
   "metadata": {},
   "outputs": [
    {
     "name": "stdout",
     "output_type": "stream",
     "text": [
      "i am live in a context\n",
      "['HELLO', 'LOVELY', 'PYTHON!']\n"
     ]
    }
   ],
   "source": [
    "with open(\"test.txt\", \"r\") as fobj:\n",
    "    print(\"i am live in a context\")\n",
    "    print([line.strip().upper() for line in fobj])"
   ]
  },
  {
   "cell_type": "code",
   "execution_count": null,
   "id": "36fce55d",
   "metadata": {},
   "outputs": [],
   "source": []
  }
 ],
 "metadata": {
  "kernelspec": {
   "display_name": "Python 3 (ipykernel)",
   "language": "python",
   "name": "python3"
  },
  "language_info": {
   "codemirror_mode": {
    "name": "ipython",
    "version": 3
   },
   "file_extension": ".py",
   "mimetype": "text/x-python",
   "name": "python",
   "nbconvert_exporter": "python",
   "pygments_lexer": "ipython3",
   "version": "3.9.13"
  }
 },
 "nbformat": 4,
 "nbformat_minor": 5
}
